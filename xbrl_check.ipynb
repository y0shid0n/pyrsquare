{
 "cells": [
  {
   "cell_type": "markdown",
   "metadata": {},
   "source": [
    "## データチェック用のnotebook\n",
    "\n",
    "エラーが出たときにscpでファイルをローカルに転送してこのnotebookで細かくチェックする"
   ]
  },
  {
   "cell_type": "code",
   "execution_count": 1,
   "metadata": {},
   "outputs": [],
   "source": [
    "from pathlib import Path\n",
    "import pandas as pd\n",
    "import numpy as np\n",
    "from edinet_xbrl.edinet_xbrl_parser import EdinetXbrlParser\n",
    "from bs4 import BeautifulSoup\n",
    "import jaconv\n",
    "import csv\n",
    "import re\n",
    "import sys\n",
    "import os\n",
    "from lib import myfunc"
   ]
  },
  {
   "cell_type": "code",
   "execution_count": 2,
   "metadata": {},
   "outputs": [],
   "source": [
    "## init parser\n",
    "parser = EdinetXbrlParser()"
   ]
  },
  {
   "cell_type": "code",
   "execution_count": 3,
   "metadata": {},
   "outputs": [],
   "source": [
    "# どっちがどっちか要確認\n",
    "# 単体 or 連結のkeyの辞書\n",
    "fs_dict = {\"non-consolidated\": \"jpcrp_cor:NotesTaxEffectAccountingFinancialStatementsTextBlock\"\n",
    "    , \"consolidated\": \"jpcrp_cor:NotesTaxEffectAccountingConsolidatedFinancialStatementsTextBlock\"}\n",
    "\n",
    "context_ref = \"CurrentYearDuration\""
   ]
  },
  {
   "cell_type": "code",
   "execution_count": 10,
   "metadata": {},
   "outputs": [],
   "source": [
    "### チェック用のファイルと使用するキー\n",
    "# ファイル\n",
    "xbrl_file_path = \"./data/jpcrp030000-asr-001_E04221-000_2019-03-31_01_2019-06-26.xbrl\"\n",
    "# キー\n",
    "usekey = fs_dict[\"non-consolidated\"]"
   ]
  },
  {
   "cell_type": "code",
   "execution_count": 11,
   "metadata": {},
   "outputs": [],
   "source": [
    "# 対象ファイルをパース\n",
    "edinet_xbrl_object = parser.parse_file(xbrl_file_path)"
   ]
  },
  {
   "cell_type": "code",
   "execution_count": 12,
   "metadata": {},
   "outputs": [],
   "source": [
    "# 辞書のキーでカラム名を変える\n",
    "if usekey == \"consolidated\":\n",
    "    colname_tmp = \"連結会計年度\"\n",
    "else:\n",
    "    colname_tmp = \"事業年度\""
   ]
  },
  {
   "cell_type": "code",
   "execution_count": 13,
   "metadata": {},
   "outputs": [],
   "source": [
    "# テーブルの確認\n",
    "table = myfunc.get_table(edinet_xbrl_object, usekey, context_ref)\n",
    "\n",
    "# tableがない場合はスキップ\n",
    "if table is None:\n",
    "    # ToDo: loggingでlog出力したい\n",
    "    print(\"There is no table.\")"
   ]
  },
  {
   "cell_type": "code",
   "execution_count": 14,
   "metadata": {},
   "outputs": [],
   "source": [
    "df = myfunc.table_to_pd(table)"
   ]
  },
  {
   "cell_type": "code",
   "execution_count": 18,
   "metadata": {},
   "outputs": [
    {
     "data": {
      "text/html": [
       "<div>\n",
       "<style scoped>\n",
       "    .dataframe tbody tr th:only-of-type {\n",
       "        vertical-align: middle;\n",
       "    }\n",
       "\n",
       "    .dataframe tbody tr th {\n",
       "        vertical-align: top;\n",
       "    }\n",
       "\n",
       "    .dataframe thead th {\n",
       "        text-align: right;\n",
       "    }\n",
       "</style>\n",
       "<table border=\"1\" class=\"dataframe\">\n",
       "  <thead>\n",
       "    <tr style=\"text-align: right;\">\n",
       "      <th></th>\n",
       "      <th>account</th>\n",
       "      <th>前事業年度(2018年3月31日)</th>\n",
       "      <th>前事業年度(2018年3月31日)_unit</th>\n",
       "      <th></th>\n",
       "      <th>当事業年度(2019年3月31日)</th>\n",
       "      <th>当事業年度(2019年3月31日)_unit</th>\n",
       "    </tr>\n",
       "  </thead>\n",
       "  <tbody>\n",
       "    <tr>\n",
       "      <th>0</th>\n",
       "      <td>繰延税金資産</td>\n",
       "      <td></td>\n",
       "      <td></td>\n",
       "      <td></td>\n",
       "      <td></td>\n",
       "      <td></td>\n",
       "    </tr>\n",
       "    <tr>\n",
       "      <th>1</th>\n",
       "      <td>貸倒引当金</td>\n",
       "      <td>2,200</td>\n",
       "      <td>千円</td>\n",
       "      <td></td>\n",
       "      <td>2,107</td>\n",
       "      <td>千円</td>\n",
       "    </tr>\n",
       "    <tr>\n",
       "      <th>2</th>\n",
       "      <td>賞与引当金</td>\n",
       "      <td>25,133</td>\n",
       "      <td></td>\n",
       "      <td></td>\n",
       "      <td>24,001</td>\n",
       "      <td></td>\n",
       "    </tr>\n",
       "    <tr>\n",
       "      <th>3</th>\n",
       "      <td>退職給付引当金</td>\n",
       "      <td>2,413</td>\n",
       "      <td></td>\n",
       "      <td></td>\n",
       "      <td>2,795</td>\n",
       "      <td></td>\n",
       "    </tr>\n",
       "    <tr>\n",
       "      <th>4</th>\n",
       "      <td>役員退職慰労引当金</td>\n",
       "      <td>11,608</td>\n",
       "      <td></td>\n",
       "      <td></td>\n",
       "      <td>13,487</td>\n",
       "      <td></td>\n",
       "    </tr>\n",
       "  </tbody>\n",
       "</table>\n",
       "</div>"
      ],
      "text/plain": [
       "     account 前事業年度(2018年3月31日) 前事業年度(2018年3月31日)_unit   当事業年度(2019年3月31日)  \\\n",
       "0     繰延税金資産                                                                \n",
       "1      貸倒引当金             2,200                     千円               2,107   \n",
       "2      賞与引当金            25,133                                     24,001   \n",
       "3    退職給付引当金             2,413                                      2,795   \n",
       "4  役員退職慰労引当金            11,608                                     13,487   \n",
       "\n",
       "  当事業年度(2019年3月31日)_unit  \n",
       "0                         \n",
       "1                     千円  \n",
       "2                         \n",
       "3                         \n",
       "4                         "
      ]
     },
     "execution_count": 18,
     "metadata": {},
     "output_type": "execute_result"
    }
   ],
   "source": [
    "df.head()"
   ]
  },
  {
   "cell_type": "code",
   "execution_count": 18,
   "metadata": {},
   "outputs": [],
   "source": [
    "# dfが6列の場合は単位のカラムの補完と値の数値変換を行う\n",
    "if len(df.columns) == 6:\n",
    "    df.loc[:, df.columns.str.contains(\"_unit\")] = df.loc[:, df.columns.str.contains(\"_unit\")].apply(myfunc.fill_unit)\n",
    "    # 値のカラム\n",
    "    collist_val = [i for i in df.columns[df.columns.str.contains(colname_tmp)] if re.search(\"^.*(?<!_unit)$\", i)]\n",
    "    df.loc[:, collist_val] = df.loc[:, collist_val].applymap(myfunc.get_value)\n",
    "\n",
    "# dfが4列の場合は単位の分離を行う\n",
    "if len(df.columns) == 4:\n",
    "    # colname_tmpが含まれるカラムを取得\n",
    "    colname_tmp_list = [i for i in df.columns if re.search(colname_tmp, i)]\n",
    "\n",
    "    for col in colname_tmp_list:\n",
    "        df = myfunc.sep_unit(df, col)"
   ]
  },
  {
   "cell_type": "code",
   "execution_count": null,
   "metadata": {},
   "outputs": [],
   "source": []
  }
 ],
 "metadata": {
  "kernelspec": {
   "display_name": "Python 3",
   "language": "python",
   "name": "python3"
  },
  "language_info": {
   "codemirror_mode": {
    "name": "ipython",
    "version": 3
   },
   "file_extension": ".py",
   "mimetype": "text/x-python",
   "name": "python",
   "nbconvert_exporter": "python",
   "pygments_lexer": "ipython3",
   "version": "3.6.7"
  }
 },
 "nbformat": 4,
 "nbformat_minor": 2
}
